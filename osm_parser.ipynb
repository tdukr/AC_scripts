{
 "cells": [
  {
   "cell_type": "code",
   "execution_count": 80,
   "metadata": {
    "collapsed": true
   },
   "outputs": [],
   "source": [
    "import overpy\n",
    "import shapefile\n",
    "import urllib.request\n",
    "import time\n",
    "from geojson import Point, LineString, Polygon, MultiPolygon, MultiLineString\n",
    "from geojsonio import display"
   ]
  },
  {
   "cell_type": "code",
   "execution_count": 69,
   "metadata": {
    "collapsed": true
   },
   "outputs": [],
   "source": [
    "inshp = \"area/reg_buff.shp\"\n",
    "sf = shapefile.Reader(inshp)\n",
    "bbox = sf.bbox\n",
    "\n",
    "objects = [['natural', ['natural','name','amenity'], ['geological', 'landcover', 'waterway']],\n",
    "           ['building', ['building', 'name', 'amenity'], ['shop', 'tourism']],\n",
    "           ['boundary', ['boundary','name','admin_level','place','koatuu','population'], []],\n",
    "            ['landuse', ['landuse','name','amenity'], ['aeroway', 'leisure', 'tourism']],\n",
    "            ['highway', ['highway','name','amenity','int_ref','surface'], ['railway', 'trafic_sign','public_transport']],\n",
    "            ['man_made', ['man_made','name','amenity',], ['power', 'office', 'shop', 'leisure', 'tourism', 'historic']],\n",
    "            ['place', ['place','name','koatuu','population'], []],\n",
    "            ['natural', ['natural','name','amenity'], ['geological', 'landcover']]]"
   ]
  },
  {
   "cell_type": "code",
   "execution_count": 73,
   "metadata": {
    "collapsed": true
   },
   "outputs": [],
   "source": [
    "def convert_int(x):\n",
    "    try:\n",
    "        return int(x)\n",
    "    except ValueError:\n",
    "        return x\n",
    "    \n",
    "    \n",
    "def get_osm(tag):\n",
    "    api = overpy.Overpass()\n",
    "    while True:\n",
    "        try:\n",
    "            res = api.query(\"\"\"\n",
    "                way({},{},{},{}) [\"{}\"];\n",
    "                (._;>;);\n",
    "                out body;\n",
    "                \"\"\".format(bbox[1], bbox[0], bbox[3], bbox[2], tag))\n",
    "            return res\n",
    "        except:\n",
    "            time.sleep(4)                   #time delay for the next query 4 seconds in case of many requests\n",
    "    \n",
    "\n",
    "def define_prj(name):\n",
    "    #add a projection file\n",
    "    prj = urllib.request.urlopen(\"http://spatialreference.org/ref/epsg/4326/esriwkt/\").read()\n",
    "    with open(name + '.prj', \"w\") as f:\n",
    "        f.write(prj.decode('utf-8'))\n",
    "        \n",
    "\n",
    "def format_coord(val, geom_type):\n",
    "        if geom_type == Point:\n",
    "            return val[0]\n",
    "        elif geom_type == LineString:\n",
    "            return val\n",
    "        elif geom_type == Polygon:\n",
    "            return [val]"
   ]
  },
  {
   "cell_type": "code",
   "execution_count": 98,
   "metadata": {
    "scrolled": false
   },
   "outputs": [],
   "source": [
    "def parse_osm(obj_name, schema, additional_tags):\n",
    "    #main func\n",
    "    #download osm data with overpass api\n",
    "    result = get_osm(obj_name)\n",
    "    additional_result = []\n",
    "    for atag in additional_tags:\n",
    "         additional_result.append(get_osm(atag))\n",
    "               \n",
    "    #parse osm data\n",
    "    additional_coords = [[[[float(node.lon), float(node.lat)] for node in way.nodes] for way in res.ways] for res in additional_result]\n",
    "    params = [list(map(convert_int, [way.tags.get(f, '') for f in schema])) for way in result.ways]\n",
    "    coords = [[[float(node.lon), float(node.lat)] for node in way.nodes] for way in result.ways]  \n",
    "    if additional_tags:\n",
    "        for i, acrd in enumerate(additional_coords):\n",
    "            type_val = additional_tags[i]\n",
    "            for j, elem in enumerate(acrd):\n",
    "                amenity_val = additional_result[i].ways[j].tags.get(additional_tags[i], '')\n",
    "                try:                                     #if there is an object with the same geometry in the original tag, update the values\n",
    "                    k = coords.index(elem)\n",
    "                    params[k][0] = type_val\n",
    "                    params[k][2] = amenity_val\n",
    "                    acrd.remove(elem)\n",
    "                except ValueError:                       #if no object with the same geometry found, add the object\n",
    "                    coords.append(elem)\n",
    "                    prm_new = list(map(convert_int, [additional_result[i].ways[j].tags.get(f, '') for f in schema]))\n",
    "                    prm_new[0] = type_val\n",
    "                    prm_new[2] = amenity_val\n",
    "                    params.append(prm_new)\n",
    "                    \n",
    "    vals = list(zip(coords, params))\n",
    "\n",
    "\n",
    "    #filter out different geometry types in the result request\n",
    "    obj_dict = {Point: [[], []], Polygon: [[], []], LineString: [[], []]}\n",
    "    for val in vals:\n",
    "        crd_set = []\n",
    "        for crd in val[0]:\n",
    "            if crd not in crd_set:\n",
    "                crd_set.append(crd)\n",
    "        if len(val[0]) == 1:\n",
    "            for i in [0,1]:\n",
    "                obj_dict[Point][i].append(val[i])\n",
    "        elif len(val[0]) != len(crd_set):\n",
    "            for i in [0,1]:\n",
    "                obj_dict[Polygon][i].append(val[i])\n",
    "        else:\n",
    "            for i in [0,1]:\n",
    "                obj_dict[LineString][i].append(val[i])\n",
    "                \n",
    "    #export json   \n",
    "    schema = list(map(lambda x: x[:10], schema)) #shorten field names to 10 characters\n",
    "    schema[0] = 'type'     #rename the first field to 'type'\n",
    "    for geom in obj_dict.keys():\n",
    "        if obj_dict[geom][0]:    #if the geom type has values for this osm tag\n",
    "            outjson = {\"type\": \"FeatureCollection\", \"features\": []}\n",
    "            outname = obj_name + '_' + geom.__name__ + '.geojson'\n",
    "            for i in range(len(obj_dict[geom][0])):\n",
    "                feat = {'type': 'Feature',\n",
    "                        'geometry': geom(format_coord(obj_dict[geom][0][i], geom)),    #{'type': k,'coordinates': format_coord(obj_dict[k][0][i], k)},\n",
    "                        'properties': dict(zip(schema, obj_dict[geom][1][i]))\n",
    "                }\n",
    "                outjson['features'].append(feat)\n",
    "            with open(outname, 'w') as outfile:\n",
    "                geojson.dump(outjson, outfile)"
   ]
  },
  {
   "cell_type": "code",
   "execution_count": null,
   "metadata": {
    "collapsed": true
   },
   "outputs": [],
   "source": [
    "for tag in objects:\n",
    "    parse_osm(tag[0], tag[1], tag[2])"
   ]
  },
  {
   "cell_type": "raw",
   "metadata": {},
   "source": [
    "желания\n",
    "\n",
    "['amenity', [['amenity','C',50,0,],['name','C',254,0]]]\n",
    "# amenity=* \n",
    "# має зберігати лише ті об'єкти, яких немає в 'building=*', 'boundary=*', 'natural=*' та 'landuse=*'\n",
    "\n",
    "\n",
    "# amenity=*\n",
    "# має зберігати лише ті об'єкти, яких немає в 'highway=*', 'place=*', 'natural=*' та 'man_made=*' "
   ]
  }
 ],
 "metadata": {
  "kernelspec": {
   "display_name": "Python 3",
   "language": "python",
   "name": "python3"
  },
  "language_info": {
   "codemirror_mode": {
    "name": "ipython",
    "version": 3
   },
   "file_extension": ".py",
   "mimetype": "text/x-python",
   "name": "python",
   "nbconvert_exporter": "python",
   "pygments_lexer": "ipython3",
   "version": "3.6.1"
  }
 },
 "nbformat": 4,
 "nbformat_minor": 2
}
