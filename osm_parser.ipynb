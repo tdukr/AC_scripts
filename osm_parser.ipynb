{
 "cells": [
  {
   "cell_type": "code",
   "execution_count": 1,
   "metadata": {
    "collapsed": true
   },
   "outputs": [],
   "source": [
    "import overpy\n",
    "import shapefile\n",
    "import urllib.request\n",
    "import time"
   ]
  },
  {
   "cell_type": "code",
   "execution_count": 2,
   "metadata": {
    "collapsed": true
   },
   "outputs": [],
   "source": [
    "inshp = \"area/reg_buff.shp\"\n",
    "sf = shapefile.Reader(inshp)\n",
    "bbox = sf.bbox"
   ]
  },
  {
   "cell_type": "code",
   "execution_count": 3,
   "metadata": {
    "collapsed": true
   },
   "outputs": [],
   "source": [
    "def convert_int(x):\n",
    "    try:\n",
    "        return int(x)\n",
    "    except ValueError:\n",
    "        return x\n",
    "    \n",
    "def get_osm(tag):\n",
    "    api = overpy.Overpass()\n",
    "    while True:\n",
    "        try:\n",
    "            res = api.query(\"\"\"\n",
    "                way({},{},{},{}) [\"{}\"];\n",
    "                (._;>;);\n",
    "                out body;\n",
    "                \"\"\".format(bbox[1], bbox[0], bbox[3], bbox[2], tag))\n",
    "            return res\n",
    "        except:\n",
    "            time.sleep(4)                   #time delay for the next query 4 seconds in case of many requests\n",
    "    \n",
    "\n",
    "def define_prj(name):\n",
    "    #add a projection file\n",
    "    prj = urllib.request.urlopen(\"http://spatialreference.org/ref/epsg/4326/esriwkt/\").read()\n",
    "    with open(name + '.prj', \"w\") as f:\n",
    "        f.write(prj.decode('utf-8'))"
   ]
  },
  {
   "cell_type": "code",
   "execution_count": 7,
   "metadata": {
    "scrolled": true
   },
   "outputs": [
    {
     "ename": "NameError",
     "evalue": "name 'point_coords' is not defined",
     "output_type": "error",
     "traceback": [
      "\u001b[1;31m---------------------------------------------------------------------------\u001b[0m",
      "\u001b[1;31mNameError\u001b[0m                                 Traceback (most recent call last)",
      "\u001b[1;32m<ipython-input-7-8440e487a946>\u001b[0m in \u001b[0;36m<module>\u001b[1;34m()\u001b[0m\n\u001b[0;32m     63\u001b[0m \u001b[1;33m\u001b[0m\u001b[0m\n\u001b[0;32m     64\u001b[0m \u001b[1;33m\u001b[0m\u001b[0m\n\u001b[1;32m---> 65\u001b[1;33m \u001b[0mparse_osm\u001b[0m\u001b[1;33m(\u001b[0m\u001b[1;34m'man_made'\u001b[0m\u001b[1;33m,\u001b[0m \u001b[1;33m[\u001b[0m\u001b[1;33m[\u001b[0m\u001b[1;34m'man_made'\u001b[0m\u001b[1;33m,\u001b[0m\u001b[1;34m'C'\u001b[0m\u001b[1;33m,\u001b[0m\u001b[1;36m50\u001b[0m\u001b[1;33m,\u001b[0m\u001b[1;36m0\u001b[0m\u001b[1;33m]\u001b[0m\u001b[1;33m,\u001b[0m\u001b[1;33m[\u001b[0m\u001b[1;34m'name'\u001b[0m\u001b[1;33m,\u001b[0m\u001b[1;34m'C'\u001b[0m\u001b[1;33m,\u001b[0m\u001b[1;36m254\u001b[0m\u001b[1;33m,\u001b[0m\u001b[1;36m0\u001b[0m\u001b[1;33m]\u001b[0m\u001b[1;33m,\u001b[0m\u001b[1;33m[\u001b[0m\u001b[1;34m'amenity'\u001b[0m\u001b[1;33m,\u001b[0m\u001b[1;34m'C'\u001b[0m\u001b[1;33m,\u001b[0m\u001b[1;36m50\u001b[0m\u001b[1;33m,\u001b[0m\u001b[1;36m0\u001b[0m\u001b[1;33m]\u001b[0m\u001b[1;33m]\u001b[0m\u001b[1;33m,\u001b[0m \u001b[1;33m[\u001b[0m\u001b[1;34m'power'\u001b[0m\u001b[1;33m,\u001b[0m \u001b[1;34m'office'\u001b[0m\u001b[1;33m,\u001b[0m \u001b[1;34m'shop'\u001b[0m\u001b[1;33m,\u001b[0m \u001b[1;34m'leisure'\u001b[0m\u001b[1;33m,\u001b[0m \u001b[1;34m'tourism'\u001b[0m\u001b[1;33m,\u001b[0m \u001b[1;34m'historic'\u001b[0m\u001b[1;33m]\u001b[0m\u001b[1;33m)\u001b[0m\u001b[1;33m\u001b[0m\u001b[0m\n\u001b[0m",
      "\u001b[1;32m<ipython-input-7-8440e487a946>\u001b[0m in \u001b[0;36mparse_osm\u001b[1;34m(obj_name, schema, additional_tags)\u001b[0m\n\u001b[0;32m     53\u001b[0m     \u001b[0mw\u001b[0m\u001b[1;33m.\u001b[0m\u001b[0msave\u001b[0m\u001b[1;33m(\u001b[0m\u001b[0mobj_name\u001b[0m\u001b[1;33m)\u001b[0m\u001b[1;33m\u001b[0m\u001b[0m\n\u001b[0;32m     54\u001b[0m     \u001b[0mdefine_prj\u001b[0m\u001b[1;33m(\u001b[0m\u001b[0mobj_name\u001b[0m\u001b[1;33m)\u001b[0m\u001b[1;33m\u001b[0m\u001b[0m\n\u001b[1;32m---> 55\u001b[1;33m     \u001b[1;32mif\u001b[0m \u001b[0mpoint_coords\u001b[0m\u001b[1;33m:\u001b[0m           \u001b[1;31m#if point objects exist\u001b[0m\u001b[1;33m\u001b[0m\u001b[0m\n\u001b[0m\u001b[0;32m     56\u001b[0m         \u001b[0mwP\u001b[0m \u001b[1;33m=\u001b[0m \u001b[0mshapefile\u001b[0m\u001b[1;33m.\u001b[0m\u001b[0mWriter\u001b[0m\u001b[1;33m(\u001b[0m\u001b[0mshapeType\u001b[0m\u001b[1;33m=\u001b[0m\u001b[0mshapefile\u001b[0m\u001b[1;33m.\u001b[0m\u001b[0mPOINT\u001b[0m\u001b[1;33m)\u001b[0m\u001b[1;33m\u001b[0m\u001b[0m\n\u001b[0;32m     57\u001b[0m         \u001b[0mwP\u001b[0m\u001b[1;33m.\u001b[0m\u001b[0mfields\u001b[0m \u001b[1;33m=\u001b[0m \u001b[0mschema\u001b[0m\u001b[1;33m\u001b[0m\u001b[0m\n",
      "\u001b[1;31mNameError\u001b[0m: name 'point_coords' is not defined"
     ]
    }
   ],
   "source": [
    "def parse_osm(obj_name, schema, additional_tags):\n",
    "    #download osm data with overpass api\n",
    "    result = get_osm(obj_name)\n",
    "    additional_result = []\n",
    "    for atag in additional_tags:\n",
    "         additional_result.append(get_osm(atag))\n",
    "               \n",
    "    #parse osm data\n",
    "    schema_fields = [j[0] for j in schema]\n",
    "    additional_coords = [[[[float(node.lon), float(node.lat)] for node in way.nodes] for way in res.ways] for res in additional_result]\n",
    "    params = [list(map(convert_int, [way.tags.get(f, '') for f in schema_fields])) for way in result.ways]\n",
    "    coords = [[[float(node.lon), float(node.lat)] for node in way.nodes] for way in result.ways]  \n",
    "    if additional_tags:\n",
    "        for i, acrd in enumerate(additional_coords):\n",
    "            type_val = additional_tags[i].rstrip()\n",
    "            for j, elem in enumerate(acrd):\n",
    "                amenity_val = additional_result[i].ways[j].tags.get(additional_tags[i], '').rstrip()\n",
    "                try:                                     #if there is an object with the same geometry in the original tag, update the values\n",
    "                    k = coords.index(elem)\n",
    "                    params[k][0] = type_val\n",
    "                    params[k][2] = amenity_val\n",
    "                    acrd.remove(elem)\n",
    "                except ValueError:                       #if no object with the same geometry found, add the object\n",
    "                    coords.append(elem)\n",
    "                    prm_new = list(map(convert_int, [additional_result[i].ways[j].tags.get(f, '') for f in schema_fields]))\n",
    "                    prm_new[0] = type_val\n",
    "                    prm_new[2] = amenity_val\n",
    "                    params.append(prm_new)\n",
    "    del result, additional_result\n",
    "    \n",
    "    #filter out point and poly objects\n",
    "    point_vals = [[], []]\n",
    "    for crd in coords:\n",
    "        if len(crd) == 1:\n",
    "            print('there are some')\n",
    "            i = coords.index(crd)\n",
    "            point_vals[1].append(crd)\n",
    "            point_vals[0].append(params[i])\n",
    "            coords.remove(i)\n",
    "            params.remove(i)\n",
    "    \n",
    "    #export to shapefile\n",
    "    for f in schema:\n",
    "        f[0] = f[0][:10]      #shorten field names to 10 characters\n",
    "    schema[0][0] = 'type'     #rename the first field to 'type'\n",
    "    w = shapefile.Writer(shapeType=shapefile.POLYLINE)\n",
    "    w.fields = schema\n",
    "    w.records.extend(params)\n",
    "    vals = list(zip(params, coords))\n",
    "    for v in vals:\n",
    "        w.record(*v[0])\n",
    "        w.poly(parts=[v[1]])\n",
    "    w.save(obj_name)\n",
    "    define_prj(obj_name)\n",
    "    if point_vals:           #if point objects exist\n",
    "        wP = shapefile.Writer(shapeType=shapefile.POINT)\n",
    "        wP.fields = schema\n",
    "        for c in point_vals[1]:\n",
    "            wP.point(c[0], c[1])\n",
    "        wP.save(obj_name + '_point')\n",
    "        define_prj(obj_name + '_point')\n",
    "    \n",
    "    \n",
    "    \n",
    "parse_osm('man_made', [['man_made','C',50,0],['name','C',254,0],['amenity','C',50,0]], ['power', 'office', 'shop', 'leisure', 'tourism', 'historic'])"
   ]
  },
  {
   "cell_type": "code",
   "execution_count": 19,
   "metadata": {},
   "outputs": [
    {
     "name": "stdout",
     "output_type": "stream",
     "text": [
      "['building', [['building', 'C', 50, 0], ['name', 'C', 254, 0], ['amenity', 'C', 50, 0]], ['shop', 'tourism']]\n",
      "['boundary', [['boundary', 'C', 50, 0], ['name', 'C', 254, 0], ['admin_level', 'N', 0, 0], ['place', 'C', 50, 0], ['koatuu', 'C', 20, 0], ['population', 'N', 0, 0]], []]\n",
      "['natural', [['natural', 'C', 50, 0], ['name', 'C', 254, 0], ['amenity', 'C', 50, 0]], ['geological', 'landcover', 'waterway']]\n",
      "['landuse', [['landuse', 'C', 50, 0], ['name', 'C', 254, 0], ['amenity', 'C', 50, 0]], ['aeroway', 'leisure', 'tourism']]\n",
      "['highway', [['highway', 'C', 50, 0], ['name', 'C', 254, 0], ['amenity', 'C', 50, 0], ['int_ref', 'C', 254, 0], ['surface', 'C', 50, 0]], ['railway', 'trafic_sign', 'public_transport']]\n",
      "['man_made', [['man_made', 'C', 50, 0], ['name', 'C', 254, 0], ['amenity', 'C', 50, 0]], ['power', 'office', 'shop', 'leisure', 'tourism', 'historic']]\n",
      "['place', [['place', 'C', 50, 0], ['name', 'C', 254, 0], ['koatuu', 'C', 20, 0], ['population', 'N', 0, 0]], []]\n",
      "['natural', [['natural', 'C', 50, 0], ['name', 'C', 254, 0], ['amenity', 'C', 50, 0]], ['geological', 'landcover']]\n"
     ]
    }
   ],
   "source": [
    "for tag in objects:\n",
    "    print(tag[0])\n",
    "    parse_osm(tag[0], tag[1], tag[2])"
   ]
  },
  {
   "cell_type": "code",
   "execution_count": 18,
   "metadata": {
    "collapsed": true
   },
   "outputs": [],
   "source": [
    "objects = [['building', [['building','C',50,0],['name','C',254,0],['amenity','C',50,0]], ['shop', 'tourism']],\\\n",
    "           ['boundary', [['boundary','C',50,0],['name','C',254,0],['admin_level','N',0,0],['place','C',50,0],['koatuu','C',20,0],['population','N',0,0]], []],\\\n",
    "            ['natural', [['natural','C',50,0],['name','C',254,0],['amenity','C',50,0]], ['geological', 'landcover', 'waterway']],\\\n",
    "            ['landuse', [['landuse','C',50,0],['name','C',254,0],['amenity','C',50,0]], ['aeroway', 'leisure', 'tourism']],\\\n",
    "            ['highway', [['highway','C',50,0],['name','C',254,0],['amenity','C',50,0], ['int_ref','C',254,0],['surface','C',50,0]], ['railway', 'trafic_sign','public_transport']],\\\n",
    "            ['man_made', [['man_made','C',50,0],['name','C',254,0],['amenity','C',50,0]], ['power', 'office', 'shop', 'leisure', 'tourism', 'historic']],\\\n",
    "           ['place', [['place','C',50,0],['name','C',254,0],['koatuu','C',20,0],['population','N',0,0]], []],\\\n",
    "           ['natural', [['natural','C',50,0],['name','C',254,0],['amenity','C',50,0]], ['geological', 'landcover']],\\\n",
    "           ]"
   ]
  },
  {
   "cell_type": "code",
   "execution_count": null,
   "metadata": {
    "collapsed": true
   },
   "outputs": [],
   "source": [
    "# POLYGONS\n",
    "# building=*\n",
    "#заменять значения в аменити если что-то есть\n",
    "# If the object has also tag 'shop=*' or 'tourism=*', key (e.g. 'shop') has to be written in 'type' and value (e.g. 'convenience') has to be written in 'amenity'\n",
    "\n",
    "\n",
    "# natural=*\n",
    "# If the object has also tag 'geological=*' or 'landcover=*', key (e.g. 'landcover') has to be written in 'type' and value (e.g. 'grass') has to be written in 'amenity'\n",
    "\n",
    "\n",
    "# landuse=*\n",
    "# Includes also objects with tags 'aeroway=*', 'leisure=*' or 'tourism=*' (if it is not a building), where key (e.g. 'aeroway') stores in 'type' and its value stores in 'amenity'\n",
    "\n",
    "\n",
    "\n",
    "# LINES\n",
    "# highway=*\n",
    "# Includes also objects with tags 'railway=*', where key (e.g. 'railway') stores in 'type' and its value stores in 'amenity'\n",
    "\n",
    "# natural=*\n",
    "# Includes also objects with tags 'waterway=*', where key (e.g. 'waterway') stores in 'type' and its value stores in 'amenity'\n",
    "\n",
    "# man_made=*\n",
    "# Includes also objects with tags power=*', where key (e.g. 'power') stores in 'type' and its value stores in 'amenity'\n",
    "\n",
    "\n",
    "# POINTS\n",
    "# highway=*\n",
    "# Includes also objects with tags 'trafic_sign=*', railway=*' or 'public_transport=*', where key (e.g. 'public_transport') stores in 'type' and its value stores in 'amenity'\n",
    "\n",
    "\n",
    "# natural=*\n",
    "# If the object has also tag 'geological=*' or 'landcover=*', key ('landcover', for instance) has to be written in 'type' and value ('grass', for instance) has to be written in 'amenity'\n",
    "\n",
    "\n",
    "# man_made=*\n",
    "# Includes also objects with tags 'historic=*', office=*', 'shop=*', power=*', 'leisure=*' or 'tourism=*', where key (e.g. 'tourism') stores in 'type' and its value stores in 'amenity'"
   ]
  },
  {
   "cell_type": "raw",
   "metadata": {},
   "source": [
    "желания\n",
    "\n",
    "['amenity', [['amenity','C',50,0,],['name','C',254,0]]]\n",
    "# amenity=* \n",
    "# має зберігати лише ті об'єкти, яких немає в 'building=*', 'boundary=*', 'natural=*' та 'landuse=*'\n",
    "\n",
    "\n",
    "# amenity=*\n",
    "# має зберігати лише ті об'єкти, яких немає в 'highway=*', 'place=*', 'natural=*' та 'man_made=*' "
   ]
  }
 ],
 "metadata": {
  "kernelspec": {
   "display_name": "Python 3",
   "language": "python",
   "name": "python3"
  },
  "language_info": {
   "codemirror_mode": {
    "name": "ipython",
    "version": 3
   },
   "file_extension": ".py",
   "mimetype": "text/x-python",
   "name": "python",
   "nbconvert_exporter": "python",
   "pygments_lexer": "ipython3",
   "version": "3.6.1"
  }
 },
 "nbformat": 4,
 "nbformat_minor": 2
}
