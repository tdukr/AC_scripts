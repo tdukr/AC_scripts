{
 "cells": [
  {
   "cell_type": "code",
   "execution_count": 1,
   "metadata": {
    "collapsed": true
   },
   "outputs": [],
   "source": [
    "import overpy\n",
    "import shapefile\n",
    "import urllib.request\n",
    "\n",
    "def export_shp(obj_name, shape_type):\n",
    "    #download osm data\n",
    "    api = overpy.Overpass()\n",
    "    result = api.query(\"\"\"\n",
    "        way({},{},{},{}) [\"{}\"];\n",
    "        (._;>;);\n",
    "        out body;\n",
    "        \"\"\".format(bbox[1], bbox[0], bbox[3], bbox[2], obj_name))\n",
    "    params = [[way.tags.get(\"name\", \"n/a\"), way.tags.get(obj_name, \"n/a\")] for way in result.ways]\n",
    "    coords = [[[float(node.lon), float(node.lat)] for node in way.nodes] for way in result.ways]\n",
    "    '''\n",
    "    for way in result.ways:\n",
    "        print(way.tags)\n",
    "    '''\n",
    "    #export to shapefile\n",
    "    w = shapefile.Writer(shapeType=shape_type)\n",
    "    w.fields = [['NAME', 'C', 150, 0], ['TYPE', 'C', 50, 0]]\n",
    "    w.records.extend(params)  #fill with values\n",
    "    for line in coords:\n",
    "        w.poly(shapeType=3, parts=[line])  #add geometry for previously filled values\n",
    "    w.save(obj_name)\n",
    "    prj = urllib.request.urlopen(\"http://spatialreference.org/ref/epsg/4326/esriwkt/\").read()  #add a projection file\n",
    "    with open(obj_name+'.prj', \"w\") as f:\n",
    "        f.write(prj.decode('utf-8'))\n",
    "        \n",
    "inshp = \"area/reg_buff.shp\"\n",
    "sf = shapefile.Reader(inshp)\n",
    "test_tag = \"boundary\"\n",
    "bbox = sf.bbox\n",
    "res = export_shp(test_tag, shapefile.POLYLINE)"
   ]
  },
  {
   "cell_type": "code",
   "execution_count": 2,
   "metadata": {
    "collapsed": true
   },
   "outputs": [],
   "source": [
    "object_list = {shapefile.POLYLINE: ['building', 'highway', 'junction', 'railway', 'route', 'landuse']} #shapefile.POINT: ['amenity','landmark', ]"
   ]
  }
 ],
 "metadata": {
  "kernelspec": {
   "display_name": "Python 3",
   "language": "python",
   "name": "python3"
  },
  "language_info": {
   "codemirror_mode": {
    "name": "ipython",
    "version": 3
   },
   "file_extension": ".py",
   "mimetype": "text/x-python",
   "name": "python",
   "nbconvert_exporter": "python",
   "pygments_lexer": "ipython3",
   "version": "3.6.1"
  }
 },
 "nbformat": 4,
 "nbformat_minor": 2
}
