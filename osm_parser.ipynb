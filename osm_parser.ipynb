{
 "cells": [
  {
   "cell_type": "code",
   "execution_count": 4,
   "metadata": {
    "collapsed": true
   },
   "outputs": [],
   "source": [
    "import overpy\n",
    "import shapefile\n",
    "import urllib.request\n",
    "import time\n",
    "import shapely.geometry\n",
    "import fiona\n",
    "from fiona.crs import from_epsg"
   ]
  },
  {
   "cell_type": "code",
   "execution_count": 5,
   "metadata": {
    "collapsed": true
   },
   "outputs": [],
   "source": [
    "inshp = \"area/reg_buff.shp\"\n",
    "sf = shapefile.Reader(inshp)\n",
    "bbox = sf.bbox"
   ]
  },
  {
   "cell_type": "code",
   "execution_count": 9,
   "metadata": {
    "collapsed": true
   },
   "outputs": [],
   "source": [
    "def convert_int(x):\n",
    "    try:\n",
    "        return int(x)\n",
    "    except ValueError:\n",
    "        return x\n",
    "    \n",
    "    \n",
    "def get_osm(tag):\n",
    "    api = overpy.Overpass()\n",
    "    while True:\n",
    "        try:\n",
    "            res = api.query(\"\"\"\n",
    "                way({},{},{},{}) [\"{}\"];\n",
    "                (._;>;);\n",
    "                out body;\n",
    "                \"\"\".format(bbox[1], bbox[0], bbox[3], bbox[2], tag))\n",
    "            return res\n",
    "        except:\n",
    "            time.sleep(4)                   #time delay for the next query 4 seconds in case of many requests\n",
    "    \n",
    "\n",
    "def define_prj(name):\n",
    "    #add a projection file\n",
    "    prj = urllib.request.urlopen(\"http://spatialreference.org/ref/epsg/4326/esriwkt/\").read()\n",
    "    with open(name + '.prj', \"w\") as f:\n",
    "        f.write(prj.decode('utf-8'))\n",
    "        \n",
    "        \n",
    "def export_shp(vals, schema, name):\n",
    "    #filter out different geometry types in the result request\n",
    "    obj_dict = {shapefile.POINT: [[], []], shapefile.POLYGON: [[], []], shapefile.POLYLINE: [[], []]}\n",
    "    for val in vals:\n",
    "        crd_set = []\n",
    "        for crd in val[0]:\n",
    "            if crd not in crd_set:\n",
    "                crd_set.append(crd)\n",
    "        if len(val[0]) == 1:\n",
    "            for i in [0,1]:\n",
    "                obj_dict[shapefile.POINT][i].append(val[i])\n",
    "        elif len(val[0]) != len(crd_set):\n",
    "            for i in [0,1]:\n",
    "                obj_dict[shapefile.POLYGON][i].append(val[i])\n",
    "        else:\n",
    "            for i in [0,1]:\n",
    "                obj_dict[shapefile.POLYLINE][i].append(val[i])\n",
    "    \n",
    "    #export to shapefile\n",
    "    for f in schema:\n",
    "        f[0] = f[0][:10]      #shorten field names to 10 characters\n",
    "    schema[0][0] = 'type'     #rename the first field to 'type'\n",
    "    for k in obj_dict.keys():\n",
    "        if obj_dict[k][0]:    #if the geom type has values for this osm tag\n",
    "            w = shapefile.Writer(shapeType=k)\n",
    "            w.fields = schema\n",
    "            #w.records.extend(obj_dict[k][1])\n",
    "            if k == 1: #point\n",
    "                for i in range(len(obj_dict[k][0])):\n",
    "                    w.point(*obj_dict[k][0][i])\n",
    "                    w.record(*obj_dict[k][1][i])\n",
    "            else:\n",
    "                for i in range(len(obj_dict[k][0])):\n",
    "                    w.poly(parts=[obj_dict[k][0][i]], shapeType=k)\n",
    "                    w.record(*obj_dict[k][1][i])\n",
    "            w.save(name + str(k))\n",
    "            define_prj(name + str(k))"
   ]
  },
  {
   "cell_type": "code",
   "execution_count": 17,
   "metadata": {
    "collapsed": true,
    "scrolled": true
   },
   "outputs": [],
   "source": [
    "def parse_osm(obj_name, schema, additional_tags):\n",
    "    #main func\n",
    "    #download osm data with overpass api\n",
    "    result = get_osm(obj_name)\n",
    "    additional_result = []\n",
    "    for atag in additional_tags:\n",
    "         additional_result.append(get_osm(atag))\n",
    "               \n",
    "    #parse osm data\n",
    "    schema_fields = [j[0] for j in schema]\n",
    "    additional_coords = [[[[float(node.lon), float(node.lat)] for node in way.nodes] for way in res.ways] for res in additional_result]\n",
    "    params = [list(map(convert_int, [way.tags.get(f, ' ') for f in schema_fields])) for way in result.ways]\n",
    "    coords = [[[float(node.lon), float(node.lat)] for node in way.nodes] for way in result.ways]  \n",
    "    if additional_tags:\n",
    "        for i, acrd in enumerate(additional_coords):\n",
    "            type_val = additional_tags[i].rstrip()\n",
    "            for j, elem in enumerate(acrd):\n",
    "                amenity_val = additional_result[i].ways[j].tags.get(additional_tags[i], '').rstrip()\n",
    "                try:                                     #if there is an object with the same geometry in the original tag, update the values\n",
    "                    k = coords.index(elem)\n",
    "                    params[k][0] = type_val\n",
    "                    params[k][2] = amenity_val\n",
    "                    acrd.remove(elem)\n",
    "                except ValueError:                       #if no object with the same geometry found, add the object\n",
    "                    coords.append(elem)\n",
    "                    prm_new = list(map(convert_int, [additional_result[i].ways[j].tags.get(f, '') for f in schema_fields]))\n",
    "                    prm_new[0] = type_val\n",
    "                    prm_new[2] = amenity_val\n",
    "                    params.append(prm_new)\n",
    "    del result, additional_result\n",
    "    \n",
    "    vals = list(zip(coords, params))\n",
    "    export_shp(vals, schema, obj_name)\n",
    "    "
   ]
  },
  {
   "cell_type": "code",
   "execution_count": 24,
   "metadata": {
    "collapsed": true
   },
   "outputs": [],
   "source": [
    "objects = [['building', [['building','C',30,0],['name','C',254,0],['amenity','C',50,0]], ['shop', 'tourism']],\\\n",
    "           ['boundary', [['boundary','C',30,0],['name','C',254,0],['admin_level','N',0,0],['place','C',50,0],['koatuu','C',20,0],['population','N',0,0]], []],\\\n",
    "            ['natural', [['natural','C',30,0],['name','C',254,0],['amenity','C',50,0]], ['geological', 'landcover', 'waterway']],\\\n",
    "            ['landuse', [['landuse','C',30,0],['name','C',254,0],['amenity','C',50,0]], ['aeroway', 'leisure', 'tourism']],\\\n",
    "            ['highway', [['highway','C',30,0],['name','C',254,0],['amenity','C',50,0], ['int_ref','C',254,0],['surface','C',50,0]], ['railway', 'trafic_sign','public_transport']],\\\n",
    "            ['man_made', [['man_made','C',30,0],['name','C',254,0],['amenity','C',50,0]], ['power', 'office', 'shop', 'leisure', 'tourism', 'historic']],\\\n",
    "           ['place', [['place','C',30,0],['name','C',254,0],['koatuu','C',20,0],['population','N',0,0]], []],\\\n",
    "           ['natural', [['natural','C',30,0],['name','C',254,0],['amenity','C',50,0]], ['geological', 'landcover']],\\\n",
    "           ]"
   ]
  },
  {
   "cell_type": "code",
   "execution_count": null,
   "metadata": {
    "collapsed": true
   },
   "outputs": [],
   "source": [
    "for tag in objects:\n",
    "    parse_osm(tag[0], tag[1], tag[2])"
   ]
  },
  {
   "cell_type": "code",
   "execution_count": null,
   "metadata": {
    "collapsed": true
   },
   "outputs": [],
   "source": [
    "# POLYGONS\n",
    "# building=*\n",
    "#заменять значения в аменити если что-то есть\n",
    "# If the object has also tag 'shop=*' or 'tourism=*', key (e.g. 'shop') has to be written in 'type' and value (e.g. 'convenience') has to be written in 'amenity'\n",
    "\n",
    "\n",
    "# natural=*\n",
    "# If the object has also tag 'geological=*' or 'landcover=*', key (e.g. 'landcover') has to be written in 'type' and value (e.g. 'grass') has to be written in 'amenity'\n",
    "\n",
    "\n",
    "# landuse=*\n",
    "# Includes also objects with tags 'aeroway=*', 'leisure=*' or 'tourism=*' (if it is not a building), where key (e.g. 'aeroway') stores in 'type' and its value stores in 'amenity'\n",
    "\n",
    "\n",
    "\n",
    "# LINES\n",
    "# highway=*\n",
    "# Includes also objects with tags 'railway=*', where key (e.g. 'railway') stores in 'type' and its value stores in 'amenity'\n",
    "\n",
    "# natural=*\n",
    "# Includes also objects with tags 'waterway=*', where key (e.g. 'waterway') stores in 'type' and its value stores in 'amenity'\n",
    "\n",
    "# man_made=*\n",
    "# Includes also objects with tags power=*', where key (e.g. 'power') stores in 'type' and its value stores in 'amenity'\n",
    "\n",
    "\n",
    "# POINTS\n",
    "# highway=*\n",
    "# Includes also objects with tags 'trafic_sign=*', railway=*' or 'public_transport=*', where key (e.g. 'public_transport') stores in 'type' and its value stores in 'amenity'\n",
    "\n",
    "\n",
    "# natural=*\n",
    "# If the object has also tag 'geological=*' or 'landcover=*', key ('landcover', for instance) has to be written in 'type' and value ('grass', for instance) has to be written in 'amenity'\n",
    "\n",
    "\n",
    "# man_made=*\n",
    "# Includes also objects with tags 'historic=*', office=*', 'shop=*', power=*', 'leisure=*' or 'tourism=*', where key (e.g. 'tourism') stores in 'type' and its value stores in 'amenity'"
   ]
  },
  {
   "cell_type": "raw",
   "metadata": {},
   "source": [
    "желания\n",
    "\n",
    "['amenity', [['amenity','C',50,0,],['name','C',254,0]]]\n",
    "# amenity=* \n",
    "# має зберігати лише ті об'єкти, яких немає в 'building=*', 'boundary=*', 'natural=*' та 'landuse=*'\n",
    "\n",
    "\n",
    "# amenity=*\n",
    "# має зберігати лише ті об'єкти, яких немає в 'highway=*', 'place=*', 'natural=*' та 'man_made=*' "
   ]
  }
 ],
 "metadata": {
  "kernelspec": {
   "display_name": "Python 3",
   "language": "python",
   "name": "python3"
  },
  "language_info": {
   "codemirror_mode": {
    "name": "ipython",
    "version": 3
   },
   "file_extension": ".py",
   "mimetype": "text/x-python",
   "name": "python",
   "nbconvert_exporter": "python",
   "pygments_lexer": "ipython3",
   "version": "3.6.1"
  }
 },
 "nbformat": 4,
 "nbformat_minor": 2
}
