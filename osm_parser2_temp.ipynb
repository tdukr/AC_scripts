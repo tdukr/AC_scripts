{
 "cells": [
  {
   "cell_type": "code",
   "execution_count": 1,
   "metadata": {
    "collapsed": false
   },
   "outputs": [],
   "source": [
    "import overpy\n",
    "import shapefile\n",
    "import csv\n",
    "import time\n",
    "import geojson\n",
    "\n",
    "\n",
    "inshp = \"area/reg_buff.shp\"\n",
    "sf = shapefile.Reader(inshp)\n",
    "bbox = sf.bbox\n",
    "in_tags = [['social', [\"amenity\", \"shop\", \"building\", \"tourism\", \"leisure\", '\"landuse\"=\"religious\"',\n",
    "                        '\"highway\" = \"bus_stop\"', \"government\", '\"boundary\"=\"protected_area\"', '\"office\"=\"government\"']]\n",
    "            ]"
   ]
  },
  {
   "cell_type": "code",
   "execution_count": 2,
   "metadata": {
    "collapsed": true
   },
   "outputs": [],
   "source": [
    "def convert_int_none(x):\n",
    "    try:\n",
    "        if x == None:\n",
    "            return ''\n",
    "        else:\n",
    "            return int(x)\n",
    "    except ValueError:\n",
    "        return x\n",
    "\n",
    "def all_unique(in_list):\n",
    "    seen = list()\n",
    "    return not any(l in seen or seen.append(l) for l in in_list)"
   ]
  },
  {
   "cell_type": "code",
   "execution_count": 3,
   "metadata": {
    "collapsed": true
   },
   "outputs": [],
   "source": [
    "def get_osm(tag):\n",
    "    \"\"\"\n",
    "    requests data from OSM using Overpass API\n",
    "    :param tag: OSM tag\n",
    "    :return: dictionary {'node' : overpy.Result, 'way': overpy.Result, 'rel': [....]}\n",
    "    \"\"\"\n",
    "    query = lambda rel_type: api.query(\"\"\"({}({},{},{},{}) [{}];);(._;>;);out;\"\"\"\n",
    "                                           .format(rel_type, bbox[1], bbox[0], bbox[3], bbox[2], tag))\n",
    "\n",
    "    def query_rels(ids):\n",
    "        while True:\n",
    "            try:\n",
    "                return api.query(\"\"\"relation({});(._;>;);out;\"\"\".format(ids))\n",
    "            except:\n",
    "                time.sleep(4)\n",
    "\n",
    "    api = overpy.Overpass()\n",
    "    result = dict()\n",
    "    do_queries = [['node', query('node')], ['way', query('way')],\n",
    "         ['rel', [query_rels(ID) for ID in query('rel').get_relation_ids()]]]\n",
    "    for q in do_queries:\n",
    "        while True:\n",
    "            try:\n",
    "                result[q[0]] = q[1]\n",
    "                break\n",
    "            except:\n",
    "                time.sleep(4)  # time delay for the next query 3 seconds in case of many requests\n",
    "    return result"
   ]
  },
  {
   "cell_type": "code",
   "execution_count": 4,
   "metadata": {
    "collapsed": false
   },
   "outputs": [
    {
     "name": "stdout",
     "output_type": "stream",
     "text": [
      "shop\n",
      "building\n",
      "tourism\n",
      "leisure\n",
      "\"landuse\"=\"religious\"\n",
      "\"highway\" = \"bus_stop\"\n",
      "government\n",
      "\"boundary\"=\"protected_area\"\n",
      "\"office\"=\"government\"\n",
      "Done\n"
     ]
    }
   ],
   "source": [
    "keys = in_tags[0][1]\n",
    "res = get_osm(keys[0])\n",
    "for k in keys[1:]:\n",
    "    print(k)\n",
    "    ares = get_osm(k)       # {'node' : overpy.Result, 'way': overpy.Result, 'rel': [....]} for each key\n",
    "    res['node'].expand(ares['node'])\n",
    "    res['way'].expand(ares['way'])\n",
    "    res['rel'].extend(ares['rel'])\n",
    "print('Done')"
   ]
  },
  {
   "cell_type": "code",
   "execution_count": 29,
   "metadata": {
    "collapsed": false
   },
   "outputs": [
    {
     "ename": "AttributeError",
     "evalue": "'list' object has no attribute 'tags'",
     "output_type": "error",
     "traceback": [
      "\u001b[0;31m---------------------------------------------------------------------------\u001b[0m",
      "\u001b[0;31mAttributeError\u001b[0m                            Traceback (most recent call last)",
      "\u001b[0;32m<ipython-input-29-843a04b29406>\u001b[0m in \u001b[0;36m<module>\u001b[0;34m()\u001b[0m\n\u001b[0;32m----> 1\u001b[0;31m \u001b[0mres\u001b[0m\u001b[0;34m[\u001b[0m\u001b[0;34m'rel'\u001b[0m\u001b[0;34m]\u001b[0m\u001b[0;34m[\u001b[0m\u001b[0;36m0\u001b[0m\u001b[0;34m]\u001b[0m\u001b[0;34m.\u001b[0m\u001b[0mrelations\u001b[0m\u001b[0;34m.\u001b[0m\u001b[0mtags\u001b[0m\u001b[0;34m\u001b[0m\u001b[0m\n\u001b[0m",
      "\u001b[0;31mAttributeError\u001b[0m: 'list' object has no attribute 'tags'"
     ]
    }
   ],
   "source": [
    "res['rel'][0].relations.tags"
   ]
  },
  {
   "cell_type": "code",
   "execution_count": 30,
   "metadata": {
    "collapsed": false
   },
   "outputs": [],
   "source": [
    "objs = {'Point': {}, 'LineString': {'coords': [], 'params': []}, 'Polygon': {'coords': [], 'params': []},\n",
    "            'MultiPolygon': {'coords': [], 'params': []}, 'MultiLineString': {'coords': [], 'params': []}}\n",
    "#Points\n",
    "objs['Point']['coords'] = [[float(node.lon), float(node.lat)] for node in res['node'].nodes]\n",
    "objs['Point']['params'] = [node.tags for node in res['node'].nodes]"
   ]
  },
  {
   "cell_type": "code",
   "execution_count": 37,
   "metadata": {
    "collapsed": false
   },
   "outputs": [
    {
     "data": {
      "text/plain": [
       "[<overpy.Result at 0x7fee5d27c940>]"
      ]
     },
     "execution_count": 37,
     "metadata": {},
     "output_type": "execute_result"
    }
   ],
   "source": [
    "res['rel']"
   ]
  },
  {
   "cell_type": "code",
   "execution_count": 21,
   "metadata": {
    "collapsed": false
   },
   "outputs": [
    {
     "name": "stdout",
     "output_type": "stream",
     "text": [
      "4459388\n"
     ]
    }
   ],
   "source": [
    "for i in rres.relations:\n",
    "    print(i.id)"
   ]
  },
  {
   "cell_type": "code",
   "execution_count": 14,
   "metadata": {
    "collapsed": false
   },
   "outputs": [
    {
     "data": {
      "text/plain": [
       "{'amenity': 'fuel', 'id': 5135360854, 'name': 'БРСМ', 'name:ru': 'БРСМ'}"
      ]
     },
     "execution_count": 14,
     "metadata": {},
     "output_type": "execute_result"
    }
   ],
   "source": [
    "objs['Point']['params'][0]['id'] = 5135360854\n",
    "objs['Point']['params'][0]"
   ]
  }
 ],
 "metadata": {
  "anaconda-cloud": {},
  "kernelspec": {
   "display_name": "Python [conda root]",
   "language": "python",
   "name": "conda-root-py"
  },
  "language_info": {
   "codemirror_mode": {
    "name": "ipython",
    "version": 3
   },
   "file_extension": ".py",
   "mimetype": "text/x-python",
   "name": "python",
   "nbconvert_exporter": "python",
   "pygments_lexer": "ipython3",
   "version": "3.5.2"
  }
 },
 "nbformat": 4,
 "nbformat_minor": 1
}
